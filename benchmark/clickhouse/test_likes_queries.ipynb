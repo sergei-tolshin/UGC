{
 "cells": [
  {
   "cell_type": "code",
   "execution_count": 3,
   "metadata": {},
   "outputs": [],
   "source": [
    "# Тест скорости чтения из таблицы лайков и отзывов о фильмах на Clickhouse\n",
    "\n",
    "from clickhouse_driver import Client\n",
    "\n",
    "client = Client(host='localhost')"
   ]
  },
  {
   "cell_type": "code",
   "execution_count": 7,
   "metadata": {},
   "outputs": [],
   "source": [
    "import random, string\n",
    "from uuid import uuid4\n",
    "\n",
    "movie_id_list = [uuid4() for _ in range(100)]\n",
    "user_id_list = [uuid4() for _ in range(10000)]\n",
    "\n",
    "def randomword(length):\n",
    "    letters = string.ascii_lowercase\n",
    "    return ''.join(random.choice(letters) for _ in range(length))\n",
    "\n",
    "def randomphrase(length):\n",
    "    return ' '.join(randomword(random.randint(1, 10)) for _ in range(length))\n",
    "\n",
    "def run_insert(n):\n",
    "    record = {}\n",
    "    for _ in range(0, n):\n",
    "        record[\"user_id\"] = str(random.choice(user_id_list))\n",
    "        record[\"movie_id\"] = str(random.choice(movie_id_list))\n",
    "        record[\"score\"] = random.randint(1, 10)\n",
    "        record[\"mark\"] = 0 if random.randint(1, 6)-5 < 0 else 1\n",
    "        record[\"text\"] = None if random.randint(1, 11)-10 < 0 else randomphrase(random.randint(5, 50))\n",
    "\n",
    "        client.execute(\n",
    "            'INSERT INTO default.movieAnaliticsDb (x) VALUES (%(user_id)s), (%(movie_id)s), (%(score)d), (%(mark)d), (%(text)s)', record\n",
    "        )"
   ]
  },
  {
   "cell_type": "code",
   "execution_count": null,
   "metadata": {},
   "outputs": [],
   "source": [
    "# Создать уникальный индекс на полях user_id-movie_id"
   ]
  },
  {
   "cell_type": "code",
   "execution_count": 8,
   "metadata": {},
   "outputs": [
    {
     "ename": "UnexpectedPacketFromServerError",
     "evalue": "Code: 102. Unexpected packet from server localhost:9000 (expected Hello or Exception, got Unknown packet)",
     "output_type": "error",
     "traceback": [
      "\u001b[0;31m---------------------------------------------------------------------------\u001b[0m",
      "\u001b[0;31mUnexpectedPacketFromServerError\u001b[0m           Traceback (most recent call last)",
      "\u001b[1;32m/home/kimdo/study/ugc_part_2/benchmark/clickhouse/test_likes_queries.ipynb Cell 3'\u001b[0m in \u001b[0;36m<cell line: 1>\u001b[0;34m()\u001b[0m\n\u001b[0;32m----> <a href='vscode-notebook-cell://wsl%2Boraclelinux_8_5/home/kimdo/study/ugc_part_2/benchmark/clickhouse/test_likes_queries.ipynb#ch0000002vscode-remote?line=0'>1</a>\u001b[0m run_insert(\u001b[39m10\u001b[39;49m)\n",
      "\u001b[1;32m/home/kimdo/study/ugc_part_2/benchmark/clickhouse/test_likes_queries.ipynb Cell 2'\u001b[0m in \u001b[0;36mrun_insert\u001b[0;34m(n)\u001b[0m\n\u001b[1;32m     <a href='vscode-notebook-cell://wsl%2Boraclelinux_8_5/home/kimdo/study/ugc_part_2/benchmark/clickhouse/test_likes_queries.ipynb#ch0000001vscode-remote?line=19'>20</a>\u001b[0m record[\u001b[39m\"\u001b[39m\u001b[39mmark\u001b[39m\u001b[39m\"\u001b[39m] \u001b[39m=\u001b[39m \u001b[39m0\u001b[39m \u001b[39mif\u001b[39;00m random\u001b[39m.\u001b[39mrandint(\u001b[39m1\u001b[39m, \u001b[39m6\u001b[39m)\u001b[39m-\u001b[39m\u001b[39m5\u001b[39m \u001b[39m<\u001b[39m \u001b[39m0\u001b[39m \u001b[39melse\u001b[39;00m \u001b[39m1\u001b[39m\n\u001b[1;32m     <a href='vscode-notebook-cell://wsl%2Boraclelinux_8_5/home/kimdo/study/ugc_part_2/benchmark/clickhouse/test_likes_queries.ipynb#ch0000001vscode-remote?line=20'>21</a>\u001b[0m record[\u001b[39m\"\u001b[39m\u001b[39mtext\u001b[39m\u001b[39m\"\u001b[39m] \u001b[39m=\u001b[39m \u001b[39mNone\u001b[39;00m \u001b[39mif\u001b[39;00m random\u001b[39m.\u001b[39mrandint(\u001b[39m1\u001b[39m, \u001b[39m11\u001b[39m)\u001b[39m-\u001b[39m\u001b[39m10\u001b[39m \u001b[39m<\u001b[39m \u001b[39m0\u001b[39m \u001b[39melse\u001b[39;00m randomphrase(random\u001b[39m.\u001b[39mrandint(\u001b[39m5\u001b[39m, \u001b[39m50\u001b[39m))\n\u001b[0;32m---> <a href='vscode-notebook-cell://wsl%2Boraclelinux_8_5/home/kimdo/study/ugc_part_2/benchmark/clickhouse/test_likes_queries.ipynb#ch0000001vscode-remote?line=22'>23</a>\u001b[0m client\u001b[39m.\u001b[39;49mexecute(\n\u001b[1;32m     <a href='vscode-notebook-cell://wsl%2Boraclelinux_8_5/home/kimdo/study/ugc_part_2/benchmark/clickhouse/test_likes_queries.ipynb#ch0000001vscode-remote?line=23'>24</a>\u001b[0m     \u001b[39m'\u001b[39;49m\u001b[39mINSERT INTO default.movieAnaliticsDb (x) VALUES (\u001b[39;49m\u001b[39m%(user_id)s\u001b[39;49;00m\u001b[39m), (\u001b[39;49m\u001b[39m%(movie_id)s\u001b[39;49;00m\u001b[39m), (\u001b[39;49m\u001b[39m%(score)d\u001b[39;49;00m\u001b[39m), (\u001b[39;49m\u001b[39m%(mark)d\u001b[39;49;00m\u001b[39m), (\u001b[39;49m\u001b[39m%(text)s\u001b[39;49;00m\u001b[39m)\u001b[39;49m\u001b[39m'\u001b[39;49m, record\n\u001b[1;32m     <a href='vscode-notebook-cell://wsl%2Boraclelinux_8_5/home/kimdo/study/ugc_part_2/benchmark/clickhouse/test_likes_queries.ipynb#ch0000001vscode-remote?line=24'>25</a>\u001b[0m )\n",
      "File \u001b[0;32m~/.cache/pypoetry/virtualenvs/ugc-api-UEH81k2r-py3.9/lib64/python3.9/site-packages/clickhouse_driver/client.py:284\u001b[0m, in \u001b[0;36mClient.execute\u001b[0;34m(self, query, params, with_column_types, external_tables, query_id, settings, types_check, columnar)\u001b[0m\n\u001b[1;32m    <a href='file:///home/kimdo/.cache/pypoetry/virtualenvs/ugc-api-UEH81k2r-py3.9/lib64/python3.9/site-packages/clickhouse_driver/client.py?line=240'>241</a>\u001b[0m \u001b[39m\"\"\"\u001b[39;00m\n\u001b[1;32m    <a href='file:///home/kimdo/.cache/pypoetry/virtualenvs/ugc-api-UEH81k2r-py3.9/lib64/python3.9/site-packages/clickhouse_driver/client.py?line=241'>242</a>\u001b[0m \u001b[39mExecutes query.\u001b[39;00m\n\u001b[1;32m    <a href='file:///home/kimdo/.cache/pypoetry/virtualenvs/ugc-api-UEH81k2r-py3.9/lib64/python3.9/site-packages/clickhouse_driver/client.py?line=242'>243</a>\u001b[0m \n\u001b[0;32m   (...)\u001b[0m\n\u001b[1;32m    <a href='file:///home/kimdo/.cache/pypoetry/virtualenvs/ugc-api-UEH81k2r-py3.9/lib64/python3.9/site-packages/clickhouse_driver/client.py?line=278'>279</a>\u001b[0m \u001b[39m              and types.\u001b[39;00m\n\u001b[1;32m    <a href='file:///home/kimdo/.cache/pypoetry/virtualenvs/ugc-api-UEH81k2r-py3.9/lib64/python3.9/site-packages/clickhouse_driver/client.py?line=279'>280</a>\u001b[0m \u001b[39m\"\"\"\u001b[39;00m\n\u001b[1;32m    <a href='file:///home/kimdo/.cache/pypoetry/virtualenvs/ugc-api-UEH81k2r-py3.9/lib64/python3.9/site-packages/clickhouse_driver/client.py?line=281'>282</a>\u001b[0m start_time \u001b[39m=\u001b[39m time()\n\u001b[0;32m--> <a href='file:///home/kimdo/.cache/pypoetry/virtualenvs/ugc-api-UEH81k2r-py3.9/lib64/python3.9/site-packages/clickhouse_driver/client.py?line=283'>284</a>\u001b[0m \u001b[39mwith\u001b[39;00m \u001b[39mself\u001b[39m\u001b[39m.\u001b[39mdisconnect_on_error(query, settings):\n\u001b[1;32m    <a href='file:///home/kimdo/.cache/pypoetry/virtualenvs/ugc-api-UEH81k2r-py3.9/lib64/python3.9/site-packages/clickhouse_driver/client.py?line=284'>285</a>\u001b[0m     \u001b[39m# INSERT queries can use list/tuple/generator of list/tuples/dicts.\u001b[39;00m\n\u001b[1;32m    <a href='file:///home/kimdo/.cache/pypoetry/virtualenvs/ugc-api-UEH81k2r-py3.9/lib64/python3.9/site-packages/clickhouse_driver/client.py?line=285'>286</a>\u001b[0m     \u001b[39m# For SELECT parameters can be passed in only in dict right now.\u001b[39;00m\n\u001b[1;32m    <a href='file:///home/kimdo/.cache/pypoetry/virtualenvs/ugc-api-UEH81k2r-py3.9/lib64/python3.9/site-packages/clickhouse_driver/client.py?line=286'>287</a>\u001b[0m     is_insert \u001b[39m=\u001b[39m \u001b[39misinstance\u001b[39m(params, (\u001b[39mlist\u001b[39m, \u001b[39mtuple\u001b[39m, types\u001b[39m.\u001b[39mGeneratorType))\n\u001b[1;32m    <a href='file:///home/kimdo/.cache/pypoetry/virtualenvs/ugc-api-UEH81k2r-py3.9/lib64/python3.9/site-packages/clickhouse_driver/client.py?line=288'>289</a>\u001b[0m     \u001b[39mif\u001b[39;00m is_insert:\n",
      "File \u001b[0;32m/usr/lib64/python3.9/contextlib.py:117\u001b[0m, in \u001b[0;36m_GeneratorContextManager.__enter__\u001b[0;34m(self)\u001b[0m\n\u001b[1;32m    <a href='file:///usr/lib64/python3.9/contextlib.py?line=114'>115</a>\u001b[0m \u001b[39mdel\u001b[39;00m \u001b[39mself\u001b[39m\u001b[39m.\u001b[39margs, \u001b[39mself\u001b[39m\u001b[39m.\u001b[39mkwds, \u001b[39mself\u001b[39m\u001b[39m.\u001b[39mfunc\n\u001b[1;32m    <a href='file:///usr/lib64/python3.9/contextlib.py?line=115'>116</a>\u001b[0m \u001b[39mtry\u001b[39;00m:\n\u001b[0;32m--> <a href='file:///usr/lib64/python3.9/contextlib.py?line=116'>117</a>\u001b[0m     \u001b[39mreturn\u001b[39;00m \u001b[39mnext\u001b[39;49m(\u001b[39mself\u001b[39;49m\u001b[39m.\u001b[39;49mgen)\n\u001b[1;32m    <a href='file:///usr/lib64/python3.9/contextlib.py?line=117'>118</a>\u001b[0m \u001b[39mexcept\u001b[39;00m \u001b[39mStopIteration\u001b[39;00m:\n\u001b[1;32m    <a href='file:///usr/lib64/python3.9/contextlib.py?line=118'>119</a>\u001b[0m     \u001b[39mraise\u001b[39;00m \u001b[39mRuntimeError\u001b[39;00m(\u001b[39m\"\u001b[39m\u001b[39mgenerator didn\u001b[39m\u001b[39m'\u001b[39m\u001b[39mt yield\u001b[39m\u001b[39m\"\u001b[39m) \u001b[39mfrom\u001b[39;00m \u001b[39mNone\u001b[39m\n",
      "File \u001b[0;32m~/.cache/pypoetry/virtualenvs/ugc-api-UEH81k2r-py3.9/lib64/python3.9/site-packages/clickhouse_driver/client.py:227\u001b[0m, in \u001b[0;36mClient.disconnect_on_error\u001b[0;34m(self, query, settings)\u001b[0m\n\u001b[1;32m    <a href='file:///home/kimdo/.cache/pypoetry/virtualenvs/ugc-api-UEH81k2r-py3.9/lib64/python3.9/site-packages/clickhouse_driver/client.py?line=223'>224</a>\u001b[0m \u001b[39mself\u001b[39m\u001b[39m.\u001b[39mmake_query_settings(settings)\n\u001b[1;32m    <a href='file:///home/kimdo/.cache/pypoetry/virtualenvs/ugc-api-UEH81k2r-py3.9/lib64/python3.9/site-packages/clickhouse_driver/client.py?line=225'>226</a>\u001b[0m \u001b[39mtry\u001b[39;00m:\n\u001b[0;32m--> <a href='file:///home/kimdo/.cache/pypoetry/virtualenvs/ugc-api-UEH81k2r-py3.9/lib64/python3.9/site-packages/clickhouse_driver/client.py?line=226'>227</a>\u001b[0m     \u001b[39mself\u001b[39;49m\u001b[39m.\u001b[39;49mconnection\u001b[39m.\u001b[39;49mforce_connect()\n\u001b[1;32m    <a href='file:///home/kimdo/.cache/pypoetry/virtualenvs/ugc-api-UEH81k2r-py3.9/lib64/python3.9/site-packages/clickhouse_driver/client.py?line=227'>228</a>\u001b[0m     \u001b[39mself\u001b[39m\u001b[39m.\u001b[39mlast_query \u001b[39m=\u001b[39m QueryInfo()\n\u001b[1;32m    <a href='file:///home/kimdo/.cache/pypoetry/virtualenvs/ugc-api-UEH81k2r-py3.9/lib64/python3.9/site-packages/clickhouse_driver/client.py?line=229'>230</a>\u001b[0m     \u001b[39myield\u001b[39;00m\n",
      "File \u001b[0;32m~/.cache/pypoetry/virtualenvs/ugc-api-UEH81k2r-py3.9/lib64/python3.9/site-packages/clickhouse_driver/connection.py:219\u001b[0m, in \u001b[0;36mConnection.force_connect\u001b[0;34m(self)\u001b[0m\n\u001b[1;32m    <a href='file:///home/kimdo/.cache/pypoetry/virtualenvs/ugc-api-UEH81k2r-py3.9/lib64/python3.9/site-packages/clickhouse_driver/connection.py?line=215'>216</a>\u001b[0m \u001b[39mself\u001b[39m\u001b[39m.\u001b[39mcheck_query_execution()\n\u001b[1;32m    <a href='file:///home/kimdo/.cache/pypoetry/virtualenvs/ugc-api-UEH81k2r-py3.9/lib64/python3.9/site-packages/clickhouse_driver/connection.py?line=217'>218</a>\u001b[0m \u001b[39mif\u001b[39;00m \u001b[39mnot\u001b[39;00m \u001b[39mself\u001b[39m\u001b[39m.\u001b[39mconnected:\n\u001b[0;32m--> <a href='file:///home/kimdo/.cache/pypoetry/virtualenvs/ugc-api-UEH81k2r-py3.9/lib64/python3.9/site-packages/clickhouse_driver/connection.py?line=218'>219</a>\u001b[0m     \u001b[39mself\u001b[39;49m\u001b[39m.\u001b[39;49mconnect()\n\u001b[1;32m    <a href='file:///home/kimdo/.cache/pypoetry/virtualenvs/ugc-api-UEH81k2r-py3.9/lib64/python3.9/site-packages/clickhouse_driver/connection.py?line=220'>221</a>\u001b[0m \u001b[39melif\u001b[39;00m \u001b[39mnot\u001b[39;00m \u001b[39mself\u001b[39m\u001b[39m.\u001b[39mping():\n\u001b[1;32m    <a href='file:///home/kimdo/.cache/pypoetry/virtualenvs/ugc-api-UEH81k2r-py3.9/lib64/python3.9/site-packages/clickhouse_driver/connection.py?line=221'>222</a>\u001b[0m     logger\u001b[39m.\u001b[39mwarning(\u001b[39m'\u001b[39m\u001b[39mConnection was closed, reconnecting.\u001b[39m\u001b[39m'\u001b[39m)\n",
      "File \u001b[0;32m~/.cache/pypoetry/virtualenvs/ugc-api-UEH81k2r-py3.9/lib64/python3.9/site-packages/clickhouse_driver/connection.py:325\u001b[0m, in \u001b[0;36mConnection.connect\u001b[0;34m(self)\u001b[0m\n\u001b[1;32m    <a href='file:///home/kimdo/.cache/pypoetry/virtualenvs/ugc-api-UEH81k2r-py3.9/lib64/python3.9/site-packages/clickhouse_driver/connection.py?line=321'>322</a>\u001b[0m logger\u001b[39m.\u001b[39mdebug(\u001b[39m'\u001b[39m\u001b[39mConnecting to \u001b[39m\u001b[39m%s\u001b[39;00m\u001b[39m:\u001b[39m\u001b[39m%s\u001b[39;00m\u001b[39m'\u001b[39m, host, port)\n\u001b[1;32m    <a href='file:///home/kimdo/.cache/pypoetry/virtualenvs/ugc-api-UEH81k2r-py3.9/lib64/python3.9/site-packages/clickhouse_driver/connection.py?line=323'>324</a>\u001b[0m \u001b[39mtry\u001b[39;00m:\n\u001b[0;32m--> <a href='file:///home/kimdo/.cache/pypoetry/virtualenvs/ugc-api-UEH81k2r-py3.9/lib64/python3.9/site-packages/clickhouse_driver/connection.py?line=324'>325</a>\u001b[0m     \u001b[39mreturn\u001b[39;00m \u001b[39mself\u001b[39;49m\u001b[39m.\u001b[39;49m_init_connection(host, port)\n\u001b[1;32m    <a href='file:///home/kimdo/.cache/pypoetry/virtualenvs/ugc-api-UEH81k2r-py3.9/lib64/python3.9/site-packages/clickhouse_driver/connection.py?line=326'>327</a>\u001b[0m \u001b[39mexcept\u001b[39;00m socket\u001b[39m.\u001b[39mtimeout \u001b[39mas\u001b[39;00m e:\n\u001b[1;32m    <a href='file:///home/kimdo/.cache/pypoetry/virtualenvs/ugc-api-UEH81k2r-py3.9/lib64/python3.9/site-packages/clickhouse_driver/connection.py?line=327'>328</a>\u001b[0m     \u001b[39mself\u001b[39m\u001b[39m.\u001b[39mdisconnect()\n",
      "File \u001b[0;32m~/.cache/pypoetry/virtualenvs/ugc-api-UEH81k2r-py3.9/lib64/python3.9/site-packages/clickhouse_driver/connection.py:301\u001b[0m, in \u001b[0;36mConnection._init_connection\u001b[0;34m(self, host, port)\u001b[0m\n\u001b[1;32m    <a href='file:///home/kimdo/.cache/pypoetry/virtualenvs/ugc-api-UEH81k2r-py3.9/lib64/python3.9/site-packages/clickhouse_driver/connection.py?line=297'>298</a>\u001b[0m \u001b[39mself\u001b[39m\u001b[39m.\u001b[39mfout \u001b[39m=\u001b[39m BufferedSocketWriter(\u001b[39mself\u001b[39m\u001b[39m.\u001b[39msocket, defines\u001b[39m.\u001b[39mBUFFER_SIZE)\n\u001b[1;32m    <a href='file:///home/kimdo/.cache/pypoetry/virtualenvs/ugc-api-UEH81k2r-py3.9/lib64/python3.9/site-packages/clickhouse_driver/connection.py?line=299'>300</a>\u001b[0m \u001b[39mself\u001b[39m\u001b[39m.\u001b[39msend_hello()\n\u001b[0;32m--> <a href='file:///home/kimdo/.cache/pypoetry/virtualenvs/ugc-api-UEH81k2r-py3.9/lib64/python3.9/site-packages/clickhouse_driver/connection.py?line=300'>301</a>\u001b[0m \u001b[39mself\u001b[39;49m\u001b[39m.\u001b[39;49mreceive_hello()\n\u001b[1;32m    <a href='file:///home/kimdo/.cache/pypoetry/virtualenvs/ugc-api-UEH81k2r-py3.9/lib64/python3.9/site-packages/clickhouse_driver/connection.py?line=302'>303</a>\u001b[0m \u001b[39mself\u001b[39m\u001b[39m.\u001b[39mblock_in \u001b[39m=\u001b[39m \u001b[39mself\u001b[39m\u001b[39m.\u001b[39mget_block_in_stream()\n\u001b[1;32m    <a href='file:///home/kimdo/.cache/pypoetry/virtualenvs/ugc-api-UEH81k2r-py3.9/lib64/python3.9/site-packages/clickhouse_driver/connection.py?line=303'>304</a>\u001b[0m \u001b[39mself\u001b[39m\u001b[39m.\u001b[39mblock_in_raw \u001b[39m=\u001b[39m BlockInputStream(\u001b[39mself\u001b[39m\u001b[39m.\u001b[39mfin, \u001b[39mself\u001b[39m\u001b[39m.\u001b[39mcontext)\n",
      "File \u001b[0;32m~/.cache/pypoetry/virtualenvs/ugc-api-UEH81k2r-py3.9/lib64/python3.9/site-packages/clickhouse_driver/connection.py:447\u001b[0m, in \u001b[0;36mConnection.receive_hello\u001b[0;34m(self)\u001b[0m\n\u001b[1;32m    <a href='file:///home/kimdo/.cache/pypoetry/virtualenvs/ugc-api-UEH81k2r-py3.9/lib64/python3.9/site-packages/clickhouse_driver/connection.py?line=443'>444</a>\u001b[0m message \u001b[39m=\u001b[39m \u001b[39mself\u001b[39m\u001b[39m.\u001b[39munexpected_packet_message(\u001b[39m'\u001b[39m\u001b[39mHello or Exception\u001b[39m\u001b[39m'\u001b[39m,\n\u001b[1;32m    <a href='file:///home/kimdo/.cache/pypoetry/virtualenvs/ugc-api-UEH81k2r-py3.9/lib64/python3.9/site-packages/clickhouse_driver/connection.py?line=444'>445</a>\u001b[0m                                          packet_type)\n\u001b[1;32m    <a href='file:///home/kimdo/.cache/pypoetry/virtualenvs/ugc-api-UEH81k2r-py3.9/lib64/python3.9/site-packages/clickhouse_driver/connection.py?line=445'>446</a>\u001b[0m \u001b[39mself\u001b[39m\u001b[39m.\u001b[39mdisconnect()\n\u001b[0;32m--> <a href='file:///home/kimdo/.cache/pypoetry/virtualenvs/ugc-api-UEH81k2r-py3.9/lib64/python3.9/site-packages/clickhouse_driver/connection.py?line=446'>447</a>\u001b[0m \u001b[39mraise\u001b[39;00m errors\u001b[39m.\u001b[39mUnexpectedPacketFromServerError(message)\n",
      "\u001b[0;31mUnexpectedPacketFromServerError\u001b[0m: Code: 102. Unexpected packet from server localhost:9000 (expected Hello or Exception, got Unknown packet)"
     ]
    }
   ],
   "source": [
    "run_insert(10)"
   ]
  }
 ],
 "metadata": {
  "interpreter": {
   "hash": "d3759550089ef56217bad6a7d15da6f8cb9d284bab456954a67a7e7b5727a9c9"
  },
  "kernelspec": {
   "display_name": "Python 3.9.6 ('ugc-api-UEH81k2r-py3.9')",
   "language": "python",
   "name": "python3"
  },
  "language_info": {
   "codemirror_mode": {
    "name": "ipython",
    "version": 3
   },
   "file_extension": ".py",
   "mimetype": "text/x-python",
   "name": "python",
   "nbconvert_exporter": "python",
   "pygments_lexer": "ipython3",
   "version": "3.9.6"
  },
  "orig_nbformat": 4
 },
 "nbformat": 4,
 "nbformat_minor": 2
}

{
 "cells": [
  {
   "cell_type": "code",
   "execution_count": 2,
   "metadata": {},
   "outputs": [],
   "source": [
    "# Тест скорости чтения из таблицы лайков и отзывов о фильмах на Clickhouse\n",
    "\n",
    "from clickhouse_driver import Client\n",
    "\n",
    "client = Client(host='localhost')"
   ]
  },
  {
   "cell_type": "code",
   "execution_count": 23,
   "metadata": {},
   "outputs": [],
   "source": [
    "import random, string\n",
    "from datetime import datetime\n",
    "from uuid import uuid4\n",
    "\n",
    "movie_id_list = [uuid4() for _ in range(100)]\n",
    "user_id_list = [uuid4() for _ in range(10000)]\n",
    "\n",
    "def randomword(length):\n",
    "    letters = string.ascii_lowercase\n",
    "    return ''.join(random.choice(letters) for _ in range(length))\n",
    "\n",
    "def randomphrase(length):\n",
    "    return ' '.join(randomword(random.randint(1, 10)) for _ in range(length))\n",
    "\n",
    "def run_insert(n):\n",
    "    record = {}\n",
    "    for _ in range(0, n):\n",
    "        record[\"date\"] = datetime.now()\n",
    "        record[\"user_id\"] = str(random.choice(user_id_list))\n",
    "        record[\"movie_id\"] = str(random.choice(movie_id_list))\n",
    "        record[\"score\"] = random.randint(1, 10)\n",
    "        record[\"mark\"] = 0 if random.randint(1, 6)-5 < 0 else 1\n",
    "        record[\"text\"] = \"None\" if random.randint(1, 11)-10 < 0 else randomphrase(random.randint(5, 50))\n",
    "\n",
    "        client.execute(\n",
    "            'INSERT INTO simple.movieAnaliticsDb VALUES', [record]\n",
    "        )"
   ]
  },
  {
   "cell_type": "code",
   "execution_count": 26,
   "metadata": {},
   "outputs": [],
   "source": [
    "%timeit -n5 -r5 run_insert(100000)"
   ]
  },
  {
   "cell_type": "code",
   "execution_count": null,
   "metadata": {},
   "outputs": [],
   "source": [
    "# Выберем несколько пользователей и фильмов для тестов\n",
    "# user_id: '00020643-f40f-4fec-8ca0-3c30d81d0ceb'\n",
    "# user_id: '000456f5-444e-4083-af32-dcd5e3fd61ba'\n",
    "# movie_id: 'afb95da2-b945-46f1-b4ac-be82656650b5'\n",
    "# movie_id: 'da43eb80-8f4f-4e09-a065-3f20f810dec6'\n",
    "client.execute('SELECT * FROM simple.movieAnaliticsDb LIMIT 10')\n"
   ]
  },
  {
   "cell_type": "code",
   "execution_count": 66,
   "metadata": {},
   "outputs": [
    {
     "name": "stdout",
     "output_type": "stream",
     "text": [
      "4.18 ms ± 1.18 ms per loop (mean ± std. dev. of 5 runs, 5 loops each)\n"
     ]
    }
   ],
   "source": [
    "# Найти фильмы понравившиеся одному пользователю\n",
    "%timeit -n5 -r5 client.execute(\"SELECT movie_id, score FROM simple.movieAnaliticsDb WHERE user_id = '000456f5-444e-4083-af32-dcd5e3fd61ba' AND score >= 9\")"
   ]
  },
  {
   "cell_type": "code",
   "execution_count": 72,
   "metadata": {},
   "outputs": [
    {
     "name": "stdout",
     "output_type": "stream",
     "text": [
      "2.75 s ± 61.2 ms per loop (mean ± std. dev. of 5 runs, 5 loops each)\n",
      "2.89 s ± 91.5 ms per loop (mean ± std. dev. of 5 runs, 5 loops each)\n"
     ]
    }
   ],
   "source": [
    "# Посчитать количество лайков и дизлайков у одного фильма\n",
    "%timeit -n5 -r5 client.execute(\"SELECT count(score) FROM simple.movieAnaliticsDb WHERE movie_id = 'afb95da2-b945-46f1-b4ac-be82656650b5' AND score = 10\")\n",
    "%timeit -n5 -r5 client.execute(\"SELECT count(score) FROM simple.movieAnaliticsDb WHERE movie_id = 'afb95da2-b945-46f1-b4ac-be82656650b5' AND score = 1\")"
   ]
  },
  {
   "cell_type": "code",
   "execution_count": 74,
   "metadata": {},
   "outputs": [
    {
     "name": "stdout",
     "output_type": "stream",
     "text": [
      "4.41 ms ± 465 µs per loop (mean ± std. dev. of 5 runs, 5 loops each)\n"
     ]
    }
   ],
   "source": [
    "# Получение списка закладок для одного пользователя\n",
    "%timeit -n5 -r5 client.execute(\"SELECT movie_id FROM simple.movieAnaliticsDb WHERE user_id = '00020643-f40f-4fec-8ca0-3c30d81d0ceb' AND mark = 1\")"
   ]
  },
  {
   "cell_type": "code",
   "execution_count": 83,
   "metadata": {},
   "outputs": [
    {
     "name": "stdout",
     "output_type": "stream",
     "text": [
      "4.19 s ± 168 ms per loop (mean ± std. dev. of 5 runs, 5 loops each)\n"
     ]
    }
   ],
   "source": [
    "# Подсчет средней пользовательской оценки фильма\n",
    "def find_middle_score():\n",
    "    a = client.execute(\"SELECT sum(score) FROM simple.movieAnaliticsDb WHERE movie_id = 'da43eb80-8f4f-4e09-a065-3f20f810dec6'\")[0][0]\n",
    "    b = client.execute(\"SELECT count(score) FROM simple.movieAnaliticsDb WHERE movie_id = 'da43eb80-8f4f-4e09-a065-3f20f810dec6'\")[0][0]\n",
    "    return a/b\n",
    "%timeit -n5 -r5 find_middle_score()"
   ]
  }
 ],
 "metadata": {
  "interpreter": {
   "hash": "d3759550089ef56217bad6a7d15da6f8cb9d284bab456954a67a7e7b5727a9c9"
  },
  "kernelspec": {
   "display_name": "Python 3.9.6 ('ugc-api-UEH81k2r-py3.9')",
   "language": "python",
   "name": "python3"
  },
  "language_info": {
   "codemirror_mode": {
    "name": "ipython",
    "version": 3
   },
   "file_extension": ".py",
   "mimetype": "text/x-python",
   "name": "python",
   "nbconvert_exporter": "python",
   "pygments_lexer": "ipython3",
   "version": "3.9.6"
  },
  "orig_nbformat": 4
 },
 "nbformat": 4,
 "nbformat_minor": 2
}

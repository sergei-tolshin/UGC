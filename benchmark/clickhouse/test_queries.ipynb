{
 "cells": [
  {
   "cell_type": "code",
   "execution_count": 61,
   "metadata": {},
   "outputs": [],
   "source": [
    "from clickhouse_driver import Client\n",
    "\n",
    "client = Client(host='localhost')"
   ]
  },
  {
   "cell_type": "code",
   "execution_count": 7,
   "metadata": {},
   "outputs": [
    {
     "name": "stdout",
     "output_type": "stream",
     "text": [
      "12.1 ms ± 4.65 ms per loop (mean ± std. dev. of 5 runs, 5 loops each)\n"
     ]
    }
   ],
   "source": [
    "%timeit -n5 -r5 client.execute('SELECT count(*) FROM default.views')"
   ]
  },
  {
   "cell_type": "code",
   "execution_count": 76,
   "metadata": {},
   "outputs": [
    {
     "name": "stdout",
     "output_type": "stream",
     "text": [
      "938 ms ± 139 ms per loop (mean ± std. dev. of 5 runs, 5 loops each)\n"
     ]
    }
   ],
   "source": [
    "%timeit -n5 -r5 client.execute('SELECT count(DISTINCT user_id) FROM default.views')"
   ]
  },
  {
   "cell_type": "code",
   "execution_count": 77,
   "metadata": {},
   "outputs": [
    {
     "name": "stdout",
     "output_type": "stream",
     "text": [
      "1.2 s ± 645 ms per loop (mean ± std. dev. of 5 runs, 5 loops each)\n"
     ]
    }
   ],
   "source": [
    "%timeit -n5 -r5 client.execute('SELECT count(DISTINCT movie_id) FROM default.views')"
   ]
  },
  {
   "cell_type": "code",
   "execution_count": 78,
   "metadata": {},
   "outputs": [
    {
     "name": "stdout",
     "output_type": "stream",
     "text": [
      "70.6 ms ± 6.89 ms per loop (mean ± std. dev. of 5 runs, 5 loops each)\n"
     ]
    }
   ],
   "source": [
    "%timeit -n5 -r5 client.execute('SELECT min(viewed_frame), max(viewed_frame) FROM default.views')"
   ]
  },
  {
   "cell_type": "code",
   "execution_count": 75,
   "metadata": {},
   "outputs": [
    {
     "name": "stdout",
     "output_type": "stream",
     "text": [
      "58.5 ms ± 7.4 ms per loop (mean ± std. dev. of 5 runs, 5 loops each)\n"
     ]
    }
   ],
   "source": [
    "%timeit -n5 -r5 client.execute('SELECT count(*), sum(viewed_frame), avg(viewed_frame) FROM default.views')"
   ]
  },
  {
   "cell_type": "code",
   "execution_count": 79,
   "metadata": {},
   "outputs": [
    {
     "name": "stdout",
     "output_type": "stream",
     "text": [
      "6.53 s ± 1.34 s per loop (mean ± std. dev. of 5 runs, 1 loop each)\n"
     ]
    }
   ],
   "source": [
    "%timeit -n1 -r5 client.execute('SELECT user_id, count(distinct movie_id) FROM default.views GROUP by user_id')"
   ]
  },
  {
   "cell_type": "code",
   "execution_count": 80,
   "metadata": {},
   "outputs": [
    {
     "name": "stdout",
     "output_type": "stream",
     "text": [
      "8.27 s ± 3.27 s per loop (mean ± std. dev. of 5 runs, 1 loop each)\n"
     ]
    }
   ],
   "source": [
    "%timeit -n1 -r5 client.execute('SELECT movie_id, count(distinct user_id) FROM default.views GROUP by movie_id')"
   ]
  },
  {
   "cell_type": "code",
   "execution_count": 81,
   "metadata": {},
   "outputs": [
    {
     "name": "stdout",
     "output_type": "stream",
     "text": [
      "4.01 s ± 493 ms per loop (mean ± std. dev. of 5 runs, 1 loop each)\n"
     ]
    }
   ],
   "source": [
    "%timeit -n1 -r5 client.execute('SELECT user_id, sum(viewed_frame), min(viewed_frame), max(viewed_frame), avg(viewed_frame) FROM default.views GROUP by user_id')"
   ]
  },
  {
   "cell_type": "code",
   "execution_count": 82,
   "metadata": {},
   "outputs": [
    {
     "name": "stdout",
     "output_type": "stream",
     "text": [
      "2.92 s ± 73 ms per loop (mean ± std. dev. of 5 runs, 1 loop each)\n"
     ]
    }
   ],
   "source": [
    "%timeit -n1 -r5 client.execute('SELECT movie_id, sum(viewed_frame), min(viewed_frame), max(viewed_frame), avg(viewed_frame) FROM default.views GROUP by movie_id')"
   ]
  },
  {
   "cell_type": "code",
   "execution_count": 116,
   "metadata": {},
   "outputs": [],
   "source": [
    "from datetime import datetime, timedelta\n",
    "import random\n",
    "import string\n",
    "\n",
    "def date_between(start, end):\n",
    "    start = datetime.strptime(start, '%Y-%m-%d')\n",
    "    end = datetime.strptime(end, '%Y-%m-%d')\n",
    "\n",
    "    delta = end - start\n",
    "    int_delta = (delta.days * 24 * 60 * 60) + delta.seconds\n",
    "    random_second = random.randrange(int_delta)\n",
    "    random_microseconds = random.randint(1, int_delta)\n",
    "    return start + timedelta(seconds=random_second, microseconds=random_microseconds)\n",
    "\n",
    "def generate_movie_id(length=7):\n",
    "    letters_and_digits = string.digits\n",
    "    rand_string = ''.join(random.sample(letters_and_digits, length))\n",
    "    return 'tt'+rand_string\n",
    "\n",
    "def data_row(x=0):\n",
    "    return [\n",
    "            str(random.randint(1, 1000000)),\n",
    "            generate_movie_id(),\n",
    "            # возъмем среднюю продолжительность фильма 120 мин.\n",
    "            # будем сохранять каждые 30 сек. просмотра\n",
    "            random.randint(1, (60*60*2)/30),\n",
    "            date_between('2022-05-23', '2022-05-30')\n",
    "        ]\n",
    "\n",
    "values = [r for r in map(data_row, range(0, 1000))]"
   ]
  },
  {
   "cell_type": "code",
   "execution_count": 138,
   "metadata": {},
   "outputs": [
    {
     "name": "stdout",
     "output_type": "stream",
     "text": [
      "89.7 ms ± 31.4 ms per loop (mean ± std. dev. of 5 runs, 1 loop each)\n"
     ]
    }
   ],
   "source": [
    "%timeit -n1 -r5 client.execute('INSERT INTO default.views VALUES', values)"
   ]
  },
  {
   "cell_type": "code",
   "execution_count": 46,
   "metadata": {},
   "outputs": [
    {
     "name": "stdout",
     "output_type": "stream",
     "text": [
      "The slowest run took 16.70 times longer than the fastest. This could mean that an intermediate result is being cached.\n",
      "9.52 ms ± 12.7 ms per loop (mean ± std. dev. of 1000 runs, 1 loop each)\n"
     ]
    }
   ],
   "source": [
    "%%timeit -n1 -r1000\n",
    "client.execute(\"\"\"\n",
    "    INSERT INTO default.views (user_id, movie_id, viewed_frame, event_time)\n",
    "    VALUES ('782951', 'tt5824071', 45, now())\n",
    "    \"\"\")"
   ]
  },
  {
   "cell_type": "code",
   "execution_count": null,
   "metadata": {},
   "outputs": [],
   "source": [
    "Тестирование обработки данных, поступающих в реальном времени"
   ]
  },
  {
   "cell_type": "code",
   "execution_count": 106,
   "metadata": {},
   "outputs": [
    {
     "name": "stdout",
     "output_type": "stream",
     "text": [
      "139 ms ± 3.77 ms per loop (mean ± std. dev. of 5 runs, 5 loops each)\n",
      "123 ms ± 8.17 ms per loop (mean ± std. dev. of 5 runs, 5 loops each)\n",
      "124 ms ± 11.1 ms per loop (mean ± std. dev. of 5 runs, 5 loops each)\n"
     ]
    }
   ],
   "source": [
    "for _ in range(3):\n",
    "    %timeit -n5 -r5 client.execute('SELECT count(*), sum(viewed_frame), avg(viewed_frame) FROM default.views')"
   ]
  }
 ],
 "metadata": {
  "interpreter": {
   "hash": "d8bada4df7e026c1da7a43f2217eea486ae0dea0599df0e7bf9b910c42b45b80"
  },
  "kernelspec": {
   "display_name": "Python 3.9.13 ('venv': venv)",
   "language": "python",
   "name": "python3"
  },
  "language_info": {
   "codemirror_mode": {
    "name": "ipython",
    "version": 3
   },
   "file_extension": ".py",
   "mimetype": "text/x-python",
   "name": "python",
   "nbconvert_exporter": "python",
   "pygments_lexer": "ipython3",
   "version": "3.9.13"
  },
  "orig_nbformat": 4
 },
 "nbformat": 4,
 "nbformat_minor": 2
}

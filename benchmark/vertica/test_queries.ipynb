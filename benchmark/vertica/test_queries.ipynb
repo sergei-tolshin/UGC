{
 "cells": [
  {
   "cell_type": "code",
   "execution_count": 14,
   "metadata": {},
   "outputs": [],
   "source": [
    "import vertica_python\n",
    "\n",
    "connection_info = {\n",
    "    'host': '127.0.0.1',\n",
    "    'port': 5433,\n",
    "    'user': 'dbadmin',\n",
    "    'password': '',\n",
    "    'database': 'docker',\n",
    "    'autocommit': True,\n",
    "}"
   ]
  },
  {
   "cell_type": "code",
   "execution_count": 3,
   "metadata": {},
   "outputs": [
    {
     "name": "stdout",
     "output_type": "stream",
     "text": [
      "33.7 ms ± 1.5 ms per loop (mean ± std. dev. of 5 runs, 5 loops each)\n",
      "[10000000]\n"
     ]
    }
   ],
   "source": [
    "with vertica_python.connect(**connection_info) as connection:\n",
    "    connection = vertica_python.connect(**connection_info)\n",
    "    cursor = connection.cursor()\n",
    "\n",
    "    %timeit -n5 -r5 cursor.execute(\"SELECT count(*) FROM views\")\n",
    "\n",
    "    for row in cursor.iterate():\n",
    "        print(row)"
   ]
  },
  {
   "cell_type": "code",
   "execution_count": 19,
   "metadata": {},
   "outputs": [
    {
     "name": "stdout",
     "output_type": "stream",
     "text": [
      "3.2 s ± 91.5 ms per loop (mean ± std. dev. of 5 runs, 5 loops each)\n"
     ]
    }
   ],
   "source": [
    "\n",
    "with vertica_python.connect(**connection_info) as connection:\n",
    "    connection = vertica_python.connect(**connection_info)\n",
    "    cursor = connection.cursor()\n",
    "\n",
    "    %timeit -n5 -r5 cursor.execute(\"SELECT count(DISTINCT user_id) FROM views\")"
   ]
  },
  {
   "cell_type": "code",
   "execution_count": 20,
   "metadata": {},
   "outputs": [
    {
     "name": "stdout",
     "output_type": "stream",
     "text": [
      "3.16 s ± 104 ms per loop (mean ± std. dev. of 5 runs, 5 loops each)\n"
     ]
    }
   ],
   "source": [
    "\n",
    "with vertica_python.connect(**connection_info) as connection:\n",
    "    connection = vertica_python.connect(**connection_info)\n",
    "    cursor = connection.cursor()\n",
    "\n",
    "    %timeit -n5 -r5 cursor.execute(\"SELECT count(DISTINCT movie_id) FROM views\")"
   ]
  },
  {
   "cell_type": "code",
   "execution_count": 21,
   "metadata": {},
   "outputs": [
    {
     "name": "stdout",
     "output_type": "stream",
     "text": [
      "141 ms ± 31.3 ms per loop (mean ± std. dev. of 5 runs, 5 loops each)\n"
     ]
    }
   ],
   "source": [
    "\n",
    "with vertica_python.connect(**connection_info) as connection:\n",
    "    connection = vertica_python.connect(**connection_info)\n",
    "    cursor = connection.cursor()\n",
    "\n",
    "    %timeit -n5 -r5 cursor.execute(\"SELECT min(viewed_frame), max(viewed_frame) FROM views\")"
   ]
  },
  {
   "cell_type": "code",
   "execution_count": 40,
   "metadata": {},
   "outputs": [
    {
     "name": "stdout",
     "output_type": "stream",
     "text": [
      "115 ms ± 3.15 ms per loop (mean ± std. dev. of 5 runs, 5 loops each)\n"
     ]
    }
   ],
   "source": [
    "\n",
    "with vertica_python.connect(**connection_info) as connection:\n",
    "    connection = vertica_python.connect(**connection_info)\n",
    "    cursor = connection.cursor()\n",
    "\n",
    "    %timeit -n5 -r5 cursor.execute(\"SELECT count(*), sum(viewed_frame), avg(viewed_frame) FROM views\")"
   ]
  },
  {
   "cell_type": "code",
   "execution_count": 23,
   "metadata": {},
   "outputs": [
    {
     "name": "stdout",
     "output_type": "stream",
     "text": [
      "32.1 s ± 3.32 s per loop (mean ± std. dev. of 5 runs, 1 loop each)\n"
     ]
    }
   ],
   "source": [
    "\n",
    "with vertica_python.connect(**connection_info) as connection:\n",
    "    connection = vertica_python.connect(**connection_info)\n",
    "    cursor = connection.cursor()\n",
    "\n",
    "    %timeit -n1 -r5 cursor.execute(\"SELECT user_id, count(distinct movie_id) FROM views GROUP by user_id\")"
   ]
  },
  {
   "cell_type": "code",
   "execution_count": 24,
   "metadata": {},
   "outputs": [
    {
     "name": "stdout",
     "output_type": "stream",
     "text": [
      "25.5 s ± 3.59 s per loop (mean ± std. dev. of 5 runs, 1 loop each)\n"
     ]
    }
   ],
   "source": [
    "\n",
    "with vertica_python.connect(**connection_info) as connection:\n",
    "    connection = vertica_python.connect(**connection_info)\n",
    "    cursor = connection.cursor()\n",
    "\n",
    "    %timeit -n1 -r5 cursor.execute(\"SELECT movie_id, count(distinct user_id) FROM views GROUP by movie_id\")"
   ]
  },
  {
   "cell_type": "code",
   "execution_count": 25,
   "metadata": {},
   "outputs": [
    {
     "name": "stdout",
     "output_type": "stream",
     "text": [
      "25.9 s ± 4.51 s per loop (mean ± std. dev. of 5 runs, 1 loop each)\n"
     ]
    }
   ],
   "source": [
    "\n",
    "with vertica_python.connect(**connection_info) as connection:\n",
    "    connection = vertica_python.connect(**connection_info)\n",
    "    cursor = connection.cursor()\n",
    "\n",
    "    %timeit -n1 -r5 cursor.execute(\"SELECT user_id, sum(viewed_frame), min(viewed_frame), max(viewed_frame), avg(viewed_frame) FROM views GROUP by user_id\")"
   ]
  },
  {
   "cell_type": "code",
   "execution_count": 26,
   "metadata": {},
   "outputs": [
    {
     "name": "stdout",
     "output_type": "stream",
     "text": [
      "17.1 s ± 4.91 s per loop (mean ± std. dev. of 5 runs, 1 loop each)\n"
     ]
    }
   ],
   "source": [
    "\n",
    "with vertica_python.connect(**connection_info) as connection:\n",
    "    connection = vertica_python.connect(**connection_info)\n",
    "    cursor = connection.cursor()\n",
    "\n",
    "    %timeit -n1 -r5 cursor.execute(\"SELECT movie_id, sum(viewed_frame), min(viewed_frame), max(viewed_frame), avg(viewed_frame) FROM views GROUP by movie_id\")"
   ]
  },
  {
   "cell_type": "code",
   "execution_count": 5,
   "metadata": {},
   "outputs": [],
   "source": [
    "from datetime import datetime, timedelta\n",
    "import random\n",
    "import string\n",
    "\n",
    "def date_between(start, end):\n",
    "    start = datetime.strptime(start, '%Y-%m-%d')\n",
    "    end = datetime.strptime(end, '%Y-%m-%d')\n",
    "\n",
    "    delta = end - start\n",
    "    int_delta = (delta.days * 24 * 60 * 60) + delta.seconds\n",
    "    random_second = random.randrange(int_delta)\n",
    "    random_microseconds = random.randint(1, int_delta)\n",
    "    return start + timedelta(seconds=random_second, microseconds=random_microseconds)\n",
    "\n",
    "def generate_movie_id(length=7):\n",
    "    letters_and_digits = string.digits\n",
    "    rand_string = ''.join(random.sample(letters_and_digits, length))\n",
    "    return 'tt'+rand_string\n",
    "\n",
    "def data_row(x=0):\n",
    "    return [\n",
    "            str(random.randint(1, 1000000)),\n",
    "            generate_movie_id(),\n",
    "            # возъмем среднюю продолжительность фильма 120 мин.\n",
    "            # будем сохранять каждые 30 сек. просмотра\n",
    "            random.randint(1, (60*60*2)/30),\n",
    "            date_between('2022-05-23', '2022-05-30')\n",
    "        ]\n",
    "\n",
    "values = [r for r in map(data_row, range(0, 1000))]"
   ]
  },
  {
   "cell_type": "code",
   "execution_count": 7,
   "metadata": {},
   "outputs": [
    {
     "name": "stdout",
     "output_type": "stream",
     "text": [
      "57.9 ms ± 13.9 ms per loop (mean ± std. dev. of 5 runs, 1 loop each)\n"
     ]
    }
   ],
   "source": [
    "with vertica_python.connect(**connection_info) as connection:\n",
    "    connection = vertica_python.connect(**connection_info)\n",
    "    cursor = connection.cursor()\n",
    "    query = \"INSERT INTO views (user_id, movie_id, viewed_frame, event_time) VALUES (%s,%s,%s,%s)\"\n",
    "    %timeit -n1 -r5 cursor.executemany(query, values)"
   ]
  },
  {
   "cell_type": "code",
   "execution_count": 13,
   "metadata": {},
   "outputs": [
    {
     "name": "stdout",
     "output_type": "stream",
     "text": [
      "12.9 ms ± 1.03 ms per loop (mean ± std. dev. of 1000 runs, 1 loop each)\n"
     ]
    }
   ],
   "source": [
    "with vertica_python.connect(**connection_info) as connection:\n",
    "    connection = vertica_python.connect(**connection_info)\n",
    "    cursor = connection.cursor()\n",
    "    %timeit -n1 -r1000 cursor.execute(\"INSERT INTO views (user_id, movie_id, viewed_frame, event_time) VALUES ('782951', 'tt5824071', 45, NOW())\")"
   ]
  },
  {
   "cell_type": "markdown",
   "metadata": {},
   "source": [
    "Тестирование обработки данных, поступающих в реальном времени"
   ]
  },
  {
   "cell_type": "code",
   "execution_count": 50,
   "metadata": {},
   "outputs": [
    {
     "name": "stdout",
     "output_type": "stream",
     "text": [
      "230 ms ± 21.4 ms per loop (mean ± std. dev. of 5 runs, 5 loops each)\n",
      "[10021218, 1207230376, 120.467429807435]\n",
      "183 ms ± 16.1 ms per loop (mean ± std. dev. of 5 runs, 5 loops each)\n",
      "[10021341, 1207245542, 120.467464583832]\n",
      "209 ms ± 21.6 ms per loop (mean ± std. dev. of 5 runs, 5 loops each)\n",
      "[10021479, 1207261373, 120.467385402893]\n"
     ]
    }
   ],
   "source": [
    "with vertica_python.connect(**connection_info) as connection:\n",
    "    connection = vertica_python.connect(**connection_info)\n",
    "    cursor = connection.cursor()\n",
    "\n",
    "    for _ in range(3):\n",
    "        %timeit -n5 -r5 cursor.execute(\"SELECT count(*), sum(viewed_frame), avg(viewed_frame) FROM views\")\n",
    "        for row in cursor.iterate():\n",
    "            print(row)"
   ]
  }
 ],
 "metadata": {
  "interpreter": {
   "hash": "d8bada4df7e026c1da7a43f2217eea486ae0dea0599df0e7bf9b910c42b45b80"
  },
  "kernelspec": {
   "display_name": "Python 3.9.13 ('venv': venv)",
   "language": "python",
   "name": "python3"
  },
  "language_info": {
   "codemirror_mode": {
    "name": "ipython",
    "version": 3
   },
   "file_extension": ".py",
   "mimetype": "text/x-python",
   "name": "python",
   "nbconvert_exporter": "python",
   "pygments_lexer": "ipython3",
   "version": "3.9.13"
  },
  "orig_nbformat": 4
 },
 "nbformat": 4,
 "nbformat_minor": 2
}

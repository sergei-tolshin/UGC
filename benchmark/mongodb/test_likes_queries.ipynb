{
 "cells": [
  {
   "cell_type": "code",
   "execution_count": 3,
   "metadata": {},
   "outputs": [],
   "source": [
    "# Тест скорости чтения из таблицы лайков и отзывов о фильмах на MongoDB\n",
    "\n",
    "from pymongo import MongoClient, errors\n",
    "\n",
    "db_hosts=\"localhost:27019,localhost:27020\"\n",
    "db_port=None\n",
    "\n",
    "client = MongoClient(db_hosts, db_port)\n",
    "db = client['movieAnaliticsDb']\n",
    "series_collection = db['likesCollection']"
   ]
  },
  {
   "cell_type": "code",
   "execution_count": 4,
   "metadata": {},
   "outputs": [],
   "source": [
    "import bson, random, string\n",
    "from bson.objectid import ObjectId\n",
    "from uuid import uuid4\n",
    "\n",
    "movie_id_list = [uuid4() for _ in range(100)]\n",
    "\n",
    "user_id_list = [uuid4() for _ in range(10000)]\n",
    "\n",
    "def randomword(length):\n",
    "    letters = string.ascii_lowercase\n",
    "    return ''.join(random.choice(letters) for _ in range(length))\n",
    "\n",
    "def randomphrase(length):\n",
    "    return ' '.join(randomword(random.randint(1, 10)) for _ in range(length))\n",
    "\n",
    "def run_insert(n):\n",
    "    record = {}\n",
    "    for _ in range(0, n):\n",
    "        record[\"_id\"] = ObjectId()\n",
    "        record[\"user_id\"] = bson.Binary.from_uuid(random.choice(user_id_list))\n",
    "        record[\"movie_id\"] = bson.Binary.from_uuid(random.choice(movie_id_list))\n",
    "        record[\"score\"] = random.randint(1, 10)\n",
    "        record[\"mark\"] = 0 if random.randint(1, 6)-5 < 0 else 1\n",
    "        record[\"text\"] = None if random.randint(1, 11)-10 < 0 else randomphrase(random.randint(5, 50))\n",
    "        try:\n",
    "            series_collection.insert_one(record).inserted_id\n",
    "        except errors.DuplicateKeyError as e:\n",
    "            if \"user_id_1_movie_id_1\" in str(e):\n",
    "                pass\n",
    "            else:\n",
    "                raise errors.DuplicateKeyError\n",
    "                "
   ]
  },
  {
   "cell_type": "code",
   "execution_count": 10,
   "metadata": {},
   "outputs": [
    {
     "data": {
      "text/plain": [
       "'user_id_1_movie_id_1'"
      ]
     },
     "execution_count": 10,
     "metadata": {},
     "output_type": "execute_result"
    }
   ],
   "source": [
    "series_collection.create_index([(\"user_id\", 1), (\"movie_id\", 1)], unique=True)"
   ]
  },
  {
   "cell_type": "code",
   "execution_count": 11,
   "metadata": {},
   "outputs": [
    {
     "name": "stdout",
     "output_type": "stream",
     "text": [
      "SON([('v', 2), ('key', SON([('_id', 1)])), ('name', '_id_')])\n",
      "SON([('v', 2), ('key', SON([('user_id', 'hashed')])), ('name', 'user_id_hashed')])\n",
      "SON([('v', 2), ('key', SON([('user_id', 1), ('movie_id', 1)])), ('name', 'user_id_1_movie_id_1'), ('unique', True)])\n"
     ]
    }
   ],
   "source": [
    "for i in series_collection.list_indexes():\n",
    "    print(i)"
   ]
  },
  {
   "cell_type": "code",
   "execution_count": 6,
   "metadata": {},
   "outputs": [],
   "source": [
    "%timeit -n1 -r5 run_insert(100000)"
   ]
  },
  {
   "cell_type": "code",
   "execution_count": 56,
   "metadata": {},
   "outputs": [],
   "source": [
    "def find_document(collection, elements, multiple=False):\n",
    "    if multiple:\n",
    "        results = collection.find(elements)\n",
    "        return [r for r in results]\n",
    "    else:\n",
    "        return collection.find_one(elements)"
   ]
  },
  {
   "cell_type": "code",
   "execution_count": null,
   "metadata": {},
   "outputs": [],
   "source": [
    "# Выбираем несколько фильмов и пользователей для тестов\n",
    "find_document(series_collection, {\"score\": {\"$eq\": 7}}, multiple=True)\n",
    "\n",
    "# 'user_id': Binary(b'\\x86\\x85\\x7f\\xf4P\\xef@\\xf7\\x91X;\\x1d$R\\x06~', 4)\n",
    "# 'user_id': Binary(b'[\\x1b\\xc4t\\x1f%G\\xd6\\x8b&\\xa0\\xf0\\x96v\\x06\\x12', 4)\n",
    "# 'movie_id': Binary(b'\\x95Q\\x1fi\\xa5\\xd1L\\x12\\x88\\xa8\\x83V\\xcc\\xac=\\xc5', 4)\n",
    "# 'movie_id': Binary(b'-\\xf7\\xa60\\xad\\xa7F\\xb9\\x95\\xb0\\x95\\x03+^\\xcfo', 4)"
   ]
  },
  {
   "cell_type": "code",
   "execution_count": 41,
   "metadata": {},
   "outputs": [
    {
     "name": "stdout",
     "output_type": "stream",
     "text": [
      "3.43 ms ± 948 µs per loop (mean ± std. dev. of 5 runs, 1 loop each)\n"
     ]
    }
   ],
   "source": [
    "# Найти фильмы понравившиеся одному пользователю\n",
    "%timeit -n1 -r5 find_document(series_collection, {\"user_id\": bson.Binary(b'\\x86\\x85\\x7f\\xf4P\\xef@\\xf7\\x91X;\\x1d$R\\x06~', 4), \"score\": {\"$gte\": 9}}, multiple=True)"
   ]
  },
  {
   "cell_type": "code",
   "execution_count": 54,
   "metadata": {},
   "outputs": [
    {
     "name": "stdout",
     "output_type": "stream",
     "text": [
      "{'_id': 1, 'sum': 97}\n",
      "{'_id': 10, 'sum': 94}\n"
     ]
    }
   ],
   "source": [
    "# Посчитать количество лайков и дизлайков у одного фильма (лайк: 10, дизлайк: 1)\n",
    "# В данной ячейке выведен сам подсчет, а в следующей замер времени выборки\n",
    "movie_id = bson.Binary(b'-\\xf7\\xa60\\xad\\xa7F\\xb9\\x95\\xb0\\x95\\x03+^\\xcfo', 4)\n",
    "pipline = [{ \"$match\": {\n",
    "        \"$or\": [\n",
    "            { \"movie_id\": movie_id, \"score\": { \"$eq\": 10 } },\n",
    "            { \"movie_id\": movie_id, \"score\": { \"$eq\": 1 } },\n",
    "        ]\n",
    "    } },\n",
    "    { \"$group\": { \"_id\" : \"$score\", \"sum\" : { \"$sum\": 1 } } }]\n",
    "\n",
    "a = series_collection.aggregate(pipline)\n",
    "for i in a:\n",
    "    print(i)"
   ]
  },
  {
   "cell_type": "code",
   "execution_count": 55,
   "metadata": {},
   "outputs": [
    {
     "name": "stdout",
     "output_type": "stream",
     "text": [
      "38 ms ± 5.96 ms per loop (mean ± std. dev. of 5 runs, 1 loop each)\n"
     ]
    }
   ],
   "source": [
    "# Время выборки и агрегации лайков и дизлайков для одного фильма\n",
    "%timeit -n1 -r5 a = series_collection.aggregate(pipline)"
   ]
  },
  {
   "cell_type": "code",
   "execution_count": 58,
   "metadata": {},
   "outputs": [
    {
     "name": "stdout",
     "output_type": "stream",
     "text": [
      "2.97 ms ± 636 µs per loop (mean ± std. dev. of 5 runs, 1 loop each)\n"
     ]
    }
   ],
   "source": [
    "# Получение списка закладок для одного пользователя\n",
    "%timeit -n1 -r5 find_document(series_collection, {\"user_id\": bson.Binary(b'[\\x1b\\xc4t\\x1f%G\\xd6\\x8b&\\xa0\\xf0\\x96v\\x06\\x12', 4), \"mark\": 1}, multiple=True)"
   ]
  },
  {
   "cell_type": "code",
   "execution_count": 66,
   "metadata": {},
   "outputs": [
    {
     "name": "stdout",
     "output_type": "stream",
     "text": [
      "25.5 ms ± 2.97 ms per loop (mean ± std. dev. of 5 runs, 1 loop each)\n"
     ]
    }
   ],
   "source": [
    "# Подсчет средней пользовательской оценки фильма\n",
    "def mid_score(movie_id):\n",
    "    pipline = [{ \"$match\": {\n",
    "            \"$or\": [\n",
    "                { \"movie_id\": movie_id, },\n",
    "            ]\n",
    "        } },\n",
    "        { \"$group\": { \"_id\" : \"$movie_id\", \"sum\" : { \"$sum\": \"$score\" } } }]\n",
    "    return [i for i in series_collection.aggregate(pipline)][0][\"sum\"]/10\n",
    "\n",
    "%timeit -n1 -r5 mid_score(bson.Binary(b'\\x95Q\\x1fi\\xa5\\xd1L\\x12\\x88\\xa8\\x83V\\xcc\\xac=\\xc5', 4))"
   ]
  },
  {
   "cell_type": "code",
   "execution_count": 38,
   "metadata": {},
   "outputs": [
    {
     "data": {
      "text/plain": [
       "95296"
      ]
     },
     "execution_count": 38,
     "metadata": {},
     "output_type": "execute_result"
    }
   ],
   "source": [
    "series_collection.count_documents({})"
   ]
  },
  {
   "cell_type": "code",
   "execution_count": 5,
   "metadata": {},
   "outputs": [
    {
     "data": {
      "text/plain": [
       "<pymongo.results.DeleteResult at 0x7fe7c0f6b040>"
      ]
     },
     "execution_count": 5,
     "metadata": {},
     "output_type": "execute_result"
    }
   ],
   "source": [
    "series_collection.delete_many({})"
   ]
  }
 ],
 "metadata": {
  "interpreter": {
   "hash": "d3759550089ef56217bad6a7d15da6f8cb9d284bab456954a67a7e7b5727a9c9"
  },
  "kernelspec": {
   "display_name": "Python 3.9.6 ('ugc-api-UEH81k2r-py3.9')",
   "language": "python",
   "name": "python3"
  },
  "language_info": {
   "codemirror_mode": {
    "name": "ipython",
    "version": 3
   },
   "file_extension": ".py",
   "mimetype": "text/x-python",
   "name": "python",
   "nbconvert_exporter": "python",
   "pygments_lexer": "ipython3",
   "version": "3.9.6"
  },
  "orig_nbformat": 4
 },
 "nbformat": 4,
 "nbformat_minor": 2
}
